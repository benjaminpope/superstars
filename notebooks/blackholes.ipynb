{
 "cells": [
  {
   "cell_type": "code",
   "execution_count": 67,
   "metadata": {},
   "outputs": [],
   "source": [
    "import numpy as np\n",
    "import matplotlib.pyplot as plt\n",
    "\n",
    "from astropy.table import Table, join, Column\n",
    "import astropy.units as u \n",
    "from astropy.coordinates import SkyCoord\n",
    "from astropy.io import ascii\n",
    "\n",
    "import astroquery\n",
    "from astroquery.mast import Catalogs\n",
    "from astroquery.mast import Observations\n",
    "from astroquery.mast import Tesscut\n",
    "\n",
    "import glob, re\n",
    "\n",
    "% matplotlib inline\n",
    "\n",
    "import matplotlib as mpl\n",
    "from matplotlib import rc\n",
    "\n",
    "mpl.style.use('seaborn-colorblind')\n",
    "\n",
    "#To make sure we have always the same matplotlib settings\n",
    "#(the ones in comments are the ipython notebook settings)\n",
    "\n",
    "mpl.rcParams['figure.figsize']=(12.0,9.0)    #(6.0,4.0)\n",
    "mpl.rcParams['font.size']=18               #10 \n",
    "mpl.rcParams['savefig.dpi']= 200             #72 \n",
    "mpl.rcParams['axes.labelsize'] = 16\n",
    "mpl.rcParams['axes.labelsize'] = 16\n",
    "mpl.rcParams['xtick.labelsize'] = 12\n",
    "mpl.rcParams['ytick.labelsize'] = 12\n",
    "\n",
    "colours = mpl.rcParams['axes.prop_cycle'].by_key()['color']\n"
   ]
  },
  {
   "cell_type": "code",
   "execution_count": 14,
   "metadata": {},
   "outputs": [],
   "source": [
    "fname = '../data/bh_table.csv'\n",
    "bhs = Table.read(fname,delimiter='\\t')\n",
    "bhs.rename_column('Name (Counterpart)','Name')\n",
    "bhs.rename_column('RA (h:m:s)','RA')\n",
    "for key in bhs.keys():\n",
    "    if 'DEC' in key: \n",
    "        bhs.rename_column(key,'Dec')"
   ]
  },
  {
   "cell_type": "code",
   "execution_count": 15,
   "metadata": {},
   "outputs": [
    {
     "data": {
      "text/html": [
       "<i>Table masked=True length=60</i>\n",
       "<table id=\"table4747536480\" class=\"table-striped table-bordered table-condensed\">\n",
       "<thead><tr><th>ID</th><th>Name</th><th>RA</th><th>Dec</th><th>l (deg)</th><th>b (deg)</th><th>Magnitude Outburst (AB)</th><th>Mag. Quies. (AB)</th><th>d  (kpc)</th><th>fxpeak [2-10] (erg/s/cm2)</th><th>Porb (h)</th></tr></thead>\n",
       "<thead><tr><th>int64</th><th>str42</th><th>str11</th><th>str12</th><th>float64</th><th>float64</th><th>str15</th><th>str13</th><th>str9</th><th>float64</th><th>str15</th></tr></thead>\n",
       "<tr><td>60</td><td>MAXI J1535-571GRB 170902A</td><td>15:35:19.71</td><td>-57:13:47.58</td><td>323.7240835</td><td>-1.12886</td><td>i’=21.8±0.2</td><td>--</td><td>--</td><td>1.44e-07</td><td>--</td></tr>\n",
       "<tr><td>59</td><td>IGR J17454-2919</td><td>17:45:27.69</td><td>-29:19:53.83</td><td>359.6444268</td><td>-0.1765105</td><td>--</td><td>J=17.137</td><td>--</td><td>2.78e-10</td><td>--</td></tr>\n",
       "<tr><td>58</td><td>IGR J17451-3022</td><td>17:45:06.72</td><td>-30:22:43.30</td><td>358.7115137</td><td>-0.6579992</td><td>--</td><td>--</td><td>--</td><td>1.9e-10</td><td>∼6.284±0.001</td></tr>\n",
       "<tr><td>57</td><td>MAXI J1828-249</td><td>18:28:58.07</td><td>-25:01:45.88</td><td>8.1151012</td><td>-6.5448459</td><td>r&apos;=16.9±0.1</td><td>--</td><td>--</td><td>4.58e-09</td><td>--</td></tr>\n",
       "<tr><td>56</td><td>SWIFT J1753.7-2544</td><td>17:53:39.85</td><td>-25:45:14.20</td><td>3.6476003</td><td>0.1035382</td><td>K (not AB)∼16.5</td><td>--</td><td>--</td><td>7.09e-09</td><td>--</td></tr>\n",
       "<tr><td>55</td><td>SWIFT J174510.8-262411</td><td>17:45:10.85</td><td>-26:24:12.60</td><td>2.1108255</td><td>1.4032659</td><td>i&apos;∼17.6</td><td>r&apos;&gt;23.1±0.5</td><td>&lt;7</td><td>2.9e-08</td><td>≤21</td></tr>\n",
       "<tr><td>54</td><td>SWIFT J1910.2-0546 MAXI J1910-057</td><td>19:10:22.80</td><td>-05:47:55.92</td><td>29.9025737</td><td>-6.8440294</td><td>r&apos;=15.7±0.1</td><td>--</td><td>--</td><td>1.95e-08</td><td>&gt;6.2</td></tr>\n",
       "<tr><td>53</td><td>MAXI J1305-704</td><td>13:06:55.30</td><td>-70:27:05.11</td><td>304.2379729</td><td>-7.6189888</td><td>uvw1=17.23±0.04</td><td>--</td><td>--</td><td>1.03e-09</td><td>9.74±0.04</td></tr>\n",
       "<tr><td>52</td><td>MAXI J1836-194</td><td>18:35:43.45</td><td>-19:19:10.48</td><td>13.9456207</td><td>-5.3543217</td><td>V=16.33±0.08</td><td>r&gt;23.474</td><td>7±3</td><td>1.01e-09</td><td>&lt;4.9</td></tr>\n",
       "<tr><td>51</td><td>MAXI J1543-564</td><td>15:43:17.18</td><td>-56:24:49.61</td><td>325.0848697</td><td>-1.1211766</td><td>--</td><td>--</td><td>--</td><td>1.43e-09</td><td>--</td></tr>\n",
       "<tr><td>...</td><td>...</td><td>...</td><td>...</td><td>...</td><td>...</td><td>...</td><td>...</td><td>...</td><td>...</td><td>...</td></tr>\n",
       "<tr><td>10</td><td>SLX 1746-331</td><td>17:49:48.94</td><td>-33:12:11.60</td><td>356.8092322</td><td>-2.9735808</td><td>Ks=18.78±0.06</td><td>--</td><td>--</td><td>1.37e-08</td><td>--</td></tr>\n",
       "<tr><td>9</td><td>H 1705-250 N Oph 1977 = V2107 Oph</td><td>17:08:15.52</td><td>-25:05:30.15</td><td>358.5892354</td><td>9.0538707</td><td>B=16.3±0.5</td><td>R∼20.9±0.2</td><td>8.6±2.1</td><td>1.75e-08</td><td>12.51±0.03</td></tr>\n",
       "<tr><td>8</td><td>H 1743-322 XTE J1746-322 = IGR J17464-3213</td><td>17:46:15.60</td><td>-32:14:00.86</td><td>357.2550371</td><td>-1.8329174</td><td>R=21.95</td><td>i&apos;&gt;24</td><td>∼10</td><td>4.62e-08</td><td>--</td></tr>\n",
       "<tr><td>7</td><td>3A 0620-003 N Mon 1975 = V616 Mon</td><td>06:22:44.50</td><td>-00:20:44.72</td><td>209.9563081</td><td>-6.5398756</td><td>V∼11.12</td><td>R=17.12±0.04</td><td>1.06±0.1</td><td>2.65e-06</td><td>7.7523372±2E-07</td></tr>\n",
       "<tr><td>6</td><td>3A 1524-617 KY TrA</td><td>15:28:16.97</td><td>-61:52:57.80</td><td>320.3189872</td><td>-4.4268852</td><td>B=17.3</td><td>R=22.36±0.1</td><td>--</td><td>4.66e-08</td><td>8 – 15</td></tr>\n",
       "<tr><td>5</td><td>1H 1659-487 GX 339-4 = V821 Ara</td><td>17:02:49.40</td><td>-48:47:23.40</td><td>338.9390902</td><td>-4.326483</td><td>V=14.7±0.1</td><td>r=19.9±0.1</td><td>&gt;6</td><td>2.56e-08</td><td>42.14±0.01</td></tr>\n",
       "<tr><td>4</td><td>4U 1755-338 V4134 Sgr</td><td>17:58:40.04</td><td>-33:48:26.80</td><td>357.215521</td><td>-4.8723618</td><td>V∼18.5</td><td>R&gt;21.555</td><td>6.5±2.5</td><td>1.17e-09</td><td>∼4.4</td></tr>\n",
       "<tr><td>3</td><td>4U 1543-475 IL Lup</td><td>15:47:08.32</td><td>-47:40:10.80</td><td>330.917871</td><td>5.4261469</td><td>V=14.9</td><td>I=16.1±0.1</td><td>7.5±0.5</td><td>9.42e-08</td><td>26.79377±7E-05</td></tr>\n",
       "<tr><td>2</td><td>4U 1630-472 Nor X-1</td><td>16:34:01.61</td><td>-47:23:34.80</td><td>336.9112429</td><td>0.2502954</td><td>K (not AB)=16.1</td><td>--</td><td>--</td><td>2.65e-08</td><td>--</td></tr>\n",
       "<tr><td>1</td><td>Cen X-2</td><td>14:00:28.20</td><td>-64:47:35.60</td><td>310.2000982</td><td>-2.9001343</td><td>--</td><td>--</td><td>--</td><td>1.58e-07</td><td>--</td></tr>\n",
       "</table>"
      ],
      "text/plain": [
       "<Table masked=True length=60>\n",
       "  ID                     Name                    ...     Porb (h)   \n",
       "int64                   str42                    ...      str15     \n",
       "----- ------------------------------------------ ... ---------------\n",
       "   60                  MAXI J1535-571GRB 170902A ...              --\n",
       "   59                            IGR J17454-2919 ...              --\n",
       "   58                            IGR J17451-3022 ...    ∼6.284±0.001\n",
       "   57                             MAXI J1828-249 ...              --\n",
       "   56                         SWIFT J1753.7-2544 ...              --\n",
       "   55                     SWIFT J174510.8-262411 ...             ≤21\n",
       "   54          SWIFT J1910.2-0546 MAXI J1910-057 ...            >6.2\n",
       "   53                             MAXI J1305-704 ...       9.74±0.04\n",
       "   52                             MAXI J1836-194 ...            <4.9\n",
       "   51                             MAXI J1543-564 ...              --\n",
       "  ...                                        ... ...             ...\n",
       "   10                               SLX 1746-331 ...              --\n",
       "    9          H 1705-250 N Oph 1977 = V2107 Oph ...      12.51±0.03\n",
       "    8 H 1743-322 XTE J1746-322 = IGR J17464-3213 ...              --\n",
       "    7          3A 0620-003 N Mon 1975 = V616 Mon ... 7.7523372±2E-07\n",
       "    6                         3A 1524-617 KY TrA ...          8 – 15\n",
       "    5            1H 1659-487 GX 339-4 = V821 Ara ...      42.14±0.01\n",
       "    4                      4U 1755-338 V4134 Sgr ...            ∼4.4\n",
       "    3                         4U 1543-475 IL Lup ...  26.79377±7E-05\n",
       "    2                        4U 1630-472 Nor X-1 ...              --\n",
       "    1                                    Cen X-2 ...              --"
      ]
     },
     "execution_count": 15,
     "metadata": {},
     "output_type": "execute_result"
    }
   ],
   "source": [
    "bhs"
   ]
  },
  {
   "cell_type": "code",
   "execution_count": 71,
   "metadata": {},
   "outputs": [
    {
     "name": "stderr",
     "output_type": "stream",
     "text": [
      "/anaconda2/envs/py36/lib/python3.6/site-packages/astroquery/utils/commons.py:171: UserWarning: Coordinate string is being interpreted as an ICRS coordinate provided in degrees.\n",
      "  warnings.warn(\"Coordinate string is being interpreted as an \"\n"
     ]
    }
   ],
   "source": [
    "names = []\n",
    "for j, name in enumerate(bhs['Name']):\n",
    "    ra, dec = bhs[j]['RA','Dec']\n",
    "    obsTable = Observations.query_region(\"%s %s \"  % (ra, dec),radius=10*u.arcsec)\n",
    "    m = [obsTable['obs_collection']=='TESS']\n",
    "    if np.sum(m) != 0:\n",
    "        names.append(name)\n",
    "#         print(name)\n",
    "#         print(obsTable[m])"
   ]
  },
  {
   "cell_type": "code",
   "execution_count": 75,
   "metadata": {},
   "outputs": [],
   "source": [
    "in_tess = join(Table({'Name':np.array(names)}),bhs,keys='Name')"
   ]
  },
  {
   "cell_type": "code",
   "execution_count": 94,
   "metadata": {},
   "outputs": [
    {
     "name": "stderr",
     "output_type": "stream",
     "text": [
      "WARNING: NoResultsWarning: Missing sector information for input target. Cutout not performed. [astroquery.mast.tesscut]\n"
     ]
    },
    {
     "name": "stdout",
     "output_type": "stream",
     "text": [
      "[]\n",
      "[]\n",
      "[]\n",
      "[]\n",
      "[]\n",
      "[]\n",
      "[]\n",
      "[]\n",
      "[]\n",
      "[]\n",
      "[]\n",
      "[]\n",
      "[]\n",
      "[]\n",
      "[]\n",
      "[]\n",
      "[]\n",
      "[]\n",
      "[]\n"
     ]
    }
   ],
   "source": [
    "for j, name in enumerate(in_tess['Name']):\n",
    "    ra, dec = in_tess[j]['RA','Dec']\n",
    "    coords = SkyCoord(ra,dec,unit=(u.hourangle,u.deg))\n",
    "#     print('%s %.3f %.3f\\n' % (name,coords.ra.deg, coords.dec.deg))\n",
    "    hdulist = Tesscut.get_cutouts(coords, 5)\n",
    "    print(hdulist)"
   ]
  },
  {
   "cell_type": "markdown",
   "metadata": {},
   "source": [
    "### None of these are in publicly available TESS FFIs."
   ]
  },
  {
   "cell_type": "code",
   "execution_count": null,
   "metadata": {},
   "outputs": [],
   "source": []
  }
 ],
 "metadata": {
  "kernelspec": {
   "display_name": "Python 3",
   "language": "python",
   "name": "python3"
  },
  "language_info": {
   "codemirror_mode": {
    "name": "ipython",
    "version": 3
   },
   "file_extension": ".py",
   "mimetype": "text/x-python",
   "name": "python",
   "nbconvert_exporter": "python",
   "pygments_lexer": "ipython3",
   "version": "3.6.5"
  }
 },
 "nbformat": 4,
 "nbformat_minor": 2
}
