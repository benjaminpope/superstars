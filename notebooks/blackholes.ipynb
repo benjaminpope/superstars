{
 "cells": [
  {
   "cell_type": "code",
   "execution_count": 5,
   "metadata": {},
   "outputs": [],
   "source": [
    "import numpy as np\n",
    "import matplotlib.pyplot as plt\n",
    "\n",
    "from astropy.table import Table, join, Column\n",
    "import astropy.units as u \n",
    "from astropy.coordinates import SkyCoord\n",
    "from astropy.io import ascii\n",
    "\n",
    "import astroquery\n",
    "from astroquery.mast import Catalogs\n",
    "from astroquery.mast import Observations\n",
    "\n",
    "import glob, re\n",
    "\n",
    "% matplotlib inline\n",
    "\n",
    "import matplotlib as mpl\n",
    "from matplotlib import rc\n",
    "\n",
    "mpl.style.use('seaborn-colorblind')\n",
    "\n",
    "#To make sure we have always the same matplotlib settings\n",
    "#(the ones in comments are the ipython notebook settings)\n",
    "\n",
    "mpl.rcParams['figure.figsize']=(12.0,9.0)    #(6.0,4.0)\n",
    "mpl.rcParams['font.size']=18               #10 \n",
    "mpl.rcParams['savefig.dpi']= 200             #72 \n",
    "mpl.rcParams['axes.labelsize'] = 16\n",
    "mpl.rcParams['axes.labelsize'] = 16\n",
    "mpl.rcParams['xtick.labelsize'] = 12\n",
    "mpl.rcParams['ytick.labelsize'] = 12\n",
    "\n",
    "colours = mpl.rcParams['axes.prop_cycle'].by_key()['color']\n"
   ]
  },
  {
   "cell_type": "code",
   "execution_count": 14,
   "metadata": {},
   "outputs": [],
   "source": [
    "fname = '../data/bh_table.csv'\n",
    "bhs = Table.read(fname,delimiter='\\t')\n",
    "bhs.rename_column('Name (Counterpart)','Name')\n",
    "bhs.rename_column('RA (h:m:s)','RA')\n",
    "for key in bhs.keys():\n",
    "    if 'DEC' in key: \n",
    "        bhs.rename_column(key,'Dec')"
   ]
  },
  {
   "cell_type": "code",
   "execution_count": 15,
   "metadata": {},
   "outputs": [
    {
     "data": {
      "text/html": [
       "<i>Table masked=True length=60</i>\n",
       "<table id=\"table4747536480\" class=\"table-striped table-bordered table-condensed\">\n",
       "<thead><tr><th>ID</th><th>Name</th><th>RA</th><th>Dec</th><th>l (deg)</th><th>b (deg)</th><th>Magnitude Outburst (AB)</th><th>Mag. Quies. (AB)</th><th>d  (kpc)</th><th>fxpeak [2-10] (erg/s/cm2)</th><th>Porb (h)</th></tr></thead>\n",
       "<thead><tr><th>int64</th><th>str42</th><th>str11</th><th>str12</th><th>float64</th><th>float64</th><th>str15</th><th>str13</th><th>str9</th><th>float64</th><th>str15</th></tr></thead>\n",
       "<tr><td>60</td><td>MAXI J1535-571GRB 170902A</td><td>15:35:19.71</td><td>-57:13:47.58</td><td>323.7240835</td><td>-1.12886</td><td>i’=21.8±0.2</td><td>--</td><td>--</td><td>1.44e-07</td><td>--</td></tr>\n",
       "<tr><td>59</td><td>IGR J17454-2919</td><td>17:45:27.69</td><td>-29:19:53.83</td><td>359.6444268</td><td>-0.1765105</td><td>--</td><td>J=17.137</td><td>--</td><td>2.78e-10</td><td>--</td></tr>\n",
       "<tr><td>58</td><td>IGR J17451-3022</td><td>17:45:06.72</td><td>-30:22:43.30</td><td>358.7115137</td><td>-0.6579992</td><td>--</td><td>--</td><td>--</td><td>1.9e-10</td><td>∼6.284±0.001</td></tr>\n",
       "<tr><td>57</td><td>MAXI J1828-249</td><td>18:28:58.07</td><td>-25:01:45.88</td><td>8.1151012</td><td>-6.5448459</td><td>r&apos;=16.9±0.1</td><td>--</td><td>--</td><td>4.58e-09</td><td>--</td></tr>\n",
       "<tr><td>56</td><td>SWIFT J1753.7-2544</td><td>17:53:39.85</td><td>-25:45:14.20</td><td>3.6476003</td><td>0.1035382</td><td>K (not AB)∼16.5</td><td>--</td><td>--</td><td>7.09e-09</td><td>--</td></tr>\n",
       "<tr><td>55</td><td>SWIFT J174510.8-262411</td><td>17:45:10.85</td><td>-26:24:12.60</td><td>2.1108255</td><td>1.4032659</td><td>i&apos;∼17.6</td><td>r&apos;&gt;23.1±0.5</td><td>&lt;7</td><td>2.9e-08</td><td>≤21</td></tr>\n",
       "<tr><td>54</td><td>SWIFT J1910.2-0546 MAXI J1910-057</td><td>19:10:22.80</td><td>-05:47:55.92</td><td>29.9025737</td><td>-6.8440294</td><td>r&apos;=15.7±0.1</td><td>--</td><td>--</td><td>1.95e-08</td><td>&gt;6.2</td></tr>\n",
       "<tr><td>53</td><td>MAXI J1305-704</td><td>13:06:55.30</td><td>-70:27:05.11</td><td>304.2379729</td><td>-7.6189888</td><td>uvw1=17.23±0.04</td><td>--</td><td>--</td><td>1.03e-09</td><td>9.74±0.04</td></tr>\n",
       "<tr><td>52</td><td>MAXI J1836-194</td><td>18:35:43.45</td><td>-19:19:10.48</td><td>13.9456207</td><td>-5.3543217</td><td>V=16.33±0.08</td><td>r&gt;23.474</td><td>7±3</td><td>1.01e-09</td><td>&lt;4.9</td></tr>\n",
       "<tr><td>51</td><td>MAXI J1543-564</td><td>15:43:17.18</td><td>-56:24:49.61</td><td>325.0848697</td><td>-1.1211766</td><td>--</td><td>--</td><td>--</td><td>1.43e-09</td><td>--</td></tr>\n",
       "<tr><td>...</td><td>...</td><td>...</td><td>...</td><td>...</td><td>...</td><td>...</td><td>...</td><td>...</td><td>...</td><td>...</td></tr>\n",
       "<tr><td>10</td><td>SLX 1746-331</td><td>17:49:48.94</td><td>-33:12:11.60</td><td>356.8092322</td><td>-2.9735808</td><td>Ks=18.78±0.06</td><td>--</td><td>--</td><td>1.37e-08</td><td>--</td></tr>\n",
       "<tr><td>9</td><td>H 1705-250 N Oph 1977 = V2107 Oph</td><td>17:08:15.52</td><td>-25:05:30.15</td><td>358.5892354</td><td>9.0538707</td><td>B=16.3±0.5</td><td>R∼20.9±0.2</td><td>8.6±2.1</td><td>1.75e-08</td><td>12.51±0.03</td></tr>\n",
       "<tr><td>8</td><td>H 1743-322 XTE J1746-322 = IGR J17464-3213</td><td>17:46:15.60</td><td>-32:14:00.86</td><td>357.2550371</td><td>-1.8329174</td><td>R=21.95</td><td>i&apos;&gt;24</td><td>∼10</td><td>4.62e-08</td><td>--</td></tr>\n",
       "<tr><td>7</td><td>3A 0620-003 N Mon 1975 = V616 Mon</td><td>06:22:44.50</td><td>-00:20:44.72</td><td>209.9563081</td><td>-6.5398756</td><td>V∼11.12</td><td>R=17.12±0.04</td><td>1.06±0.1</td><td>2.65e-06</td><td>7.7523372±2E-07</td></tr>\n",
       "<tr><td>6</td><td>3A 1524-617 KY TrA</td><td>15:28:16.97</td><td>-61:52:57.80</td><td>320.3189872</td><td>-4.4268852</td><td>B=17.3</td><td>R=22.36±0.1</td><td>--</td><td>4.66e-08</td><td>8 – 15</td></tr>\n",
       "<tr><td>5</td><td>1H 1659-487 GX 339-4 = V821 Ara</td><td>17:02:49.40</td><td>-48:47:23.40</td><td>338.9390902</td><td>-4.326483</td><td>V=14.7±0.1</td><td>r=19.9±0.1</td><td>&gt;6</td><td>2.56e-08</td><td>42.14±0.01</td></tr>\n",
       "<tr><td>4</td><td>4U 1755-338 V4134 Sgr</td><td>17:58:40.04</td><td>-33:48:26.80</td><td>357.215521</td><td>-4.8723618</td><td>V∼18.5</td><td>R&gt;21.555</td><td>6.5±2.5</td><td>1.17e-09</td><td>∼4.4</td></tr>\n",
       "<tr><td>3</td><td>4U 1543-475 IL Lup</td><td>15:47:08.32</td><td>-47:40:10.80</td><td>330.917871</td><td>5.4261469</td><td>V=14.9</td><td>I=16.1±0.1</td><td>7.5±0.5</td><td>9.42e-08</td><td>26.79377±7E-05</td></tr>\n",
       "<tr><td>2</td><td>4U 1630-472 Nor X-1</td><td>16:34:01.61</td><td>-47:23:34.80</td><td>336.9112429</td><td>0.2502954</td><td>K (not AB)=16.1</td><td>--</td><td>--</td><td>2.65e-08</td><td>--</td></tr>\n",
       "<tr><td>1</td><td>Cen X-2</td><td>14:00:28.20</td><td>-64:47:35.60</td><td>310.2000982</td><td>-2.9001343</td><td>--</td><td>--</td><td>--</td><td>1.58e-07</td><td>--</td></tr>\n",
       "</table>"
      ],
      "text/plain": [
       "<Table masked=True length=60>\n",
       "  ID                     Name                    ...     Porb (h)   \n",
       "int64                   str42                    ...      str15     \n",
       "----- ------------------------------------------ ... ---------------\n",
       "   60                  MAXI J1535-571GRB 170902A ...              --\n",
       "   59                            IGR J17454-2919 ...              --\n",
       "   58                            IGR J17451-3022 ...    ∼6.284±0.001\n",
       "   57                             MAXI J1828-249 ...              --\n",
       "   56                         SWIFT J1753.7-2544 ...              --\n",
       "   55                     SWIFT J174510.8-262411 ...             ≤21\n",
       "   54          SWIFT J1910.2-0546 MAXI J1910-057 ...            >6.2\n",
       "   53                             MAXI J1305-704 ...       9.74±0.04\n",
       "   52                             MAXI J1836-194 ...            <4.9\n",
       "   51                             MAXI J1543-564 ...              --\n",
       "  ...                                        ... ...             ...\n",
       "   10                               SLX 1746-331 ...              --\n",
       "    9          H 1705-250 N Oph 1977 = V2107 Oph ...      12.51±0.03\n",
       "    8 H 1743-322 XTE J1746-322 = IGR J17464-3213 ...              --\n",
       "    7          3A 0620-003 N Mon 1975 = V616 Mon ... 7.7523372±2E-07\n",
       "    6                         3A 1524-617 KY TrA ...          8 – 15\n",
       "    5            1H 1659-487 GX 339-4 = V821 Ara ...      42.14±0.01\n",
       "    4                      4U 1755-338 V4134 Sgr ...            ∼4.4\n",
       "    3                         4U 1543-475 IL Lup ...  26.79377±7E-05\n",
       "    2                        4U 1630-472 Nor X-1 ...              --\n",
       "    1                                    Cen X-2 ...              --"
      ]
     },
     "execution_count": 15,
     "metadata": {},
     "output_type": "execute_result"
    }
   ],
   "source": [
    "bhs"
   ]
  },
  {
   "cell_type": "code",
   "execution_count": 38,
   "metadata": {},
   "outputs": [
    {
     "name": "stderr",
     "output_type": "stream",
     "text": [
      "/anaconda2/envs/py36/lib/python3.6/site-packages/astroquery/utils/commons.py:171: UserWarning: Coordinate string is being interpreted as an ICRS coordinate provided in degrees.\n",
      "  warnings.warn(\"Coordinate string is being interpreted as an \"\n"
     ]
    },
    {
     "name": "stdout",
     "output_type": "stream",
     "text": [
      "MAXI J1535-571GRB 170902A\n",
      "MAXI J1305-704\n",
      "MAXI J1543-564\n",
      "XTE J1652-453\n",
      "SWIFT J1539.2-6227\n",
      "XTE J1726-476 IGR J17269-4737\n",
      "IGR J17098-3628\n",
      "IGR J17091-3624 SAX J1709.1-3624\n",
      "XTE J1650-500\n",
      "XTE J1550-564 V381 Nor\n",
      "GRO J1655-40 N Sco 1994 = V1033 Sco\n",
      "GRS 1009-45 N Vel 1993 = MM Vel\n",
      "GRS 1124-684  N Mus 1991 = GU Mus\n",
      "GS 1354-64 BW Cir\n",
      "3A 1524-617 KY TrA\n",
      "1H 1659-487 GX 339-4 = V821 Ara\n",
      "4U 1543-475 IL Lup\n",
      "4U 1630-472 Nor X-1\n",
      "Cen X-2\n"
     ]
    }
   ],
   "source": [
    "for j in range(len(bhs)):\n",
    "    ra, dec = bhs[j]['RA','Dec']\n",
    "    obsTable = Observations.query_region(\"%s %s \"  % (ra, dec),radius=2*u.arcmin)\n",
    "    m = [obsTable['obs_collection']=='TESS']\n",
    "    if np.sum(m) != 0:\n",
    "        print(bhs['Name'][j])\n",
    "#         print(obsTable[m])"
   ]
  },
  {
   "cell_type": "markdown",
   "metadata": {},
   "source": [
    "### Our favourite is probably Cen X-2 - let's try and get TESS data for this"
   ]
  },
  {
   "cell_type": "code",
   "execution_count": 22,
   "metadata": {},
   "outputs": [
    {
     "data": {
      "text/html": [
       "<i>Table masked=True length=4</i>\n",
       "<table id=\"table4747958984\" class=\"table-striped table-bordered table-condensed\">\n",
       "<thead><tr><th>dataproduct_type</th><th>obs_collection</th><th>instrument_name</th><th>project</th><th>filters</th><th>wavelength_region</th><th>target_name</th><th>target_classification</th><th>obs_id</th><th>s_ra</th><th>s_dec</th><th>proposal_id</th><th>proposal_pi</th><th>calib_level</th><th>t_min</th><th>t_max</th><th>t_exptime</th><th>em_min</th><th>em_max</th><th>obs_title</th><th>t_obs_release</th><th>proposal_type</th><th>sequence_number</th><th>s_region</th><th>jpegURL</th><th>dataURL</th><th>dataRights</th><th>mtFlag</th><th>srcDen</th><th>obsid</th><th>objID</th><th>distance</th></tr></thead>\n",
       "<thead><tr><th>str5</th><th>str5</th><th>str10</th><th>str4</th><th>str4</th><th>str7</th><th>str12</th><th>str1</th><th>str19</th><th>float64</th><th>float64</th><th>str3</th><th>str14</th><th>int64</th><th>float64</th><th>float64</th><th>float64</th><th>float64</th><th>float64</th><th>str1</th><th>float64</th><th>str3</th><th>int64</th><th>str1855</th><th>str117</th><th>str112</th><th>str6</th><th>bool</th><th>float64</th><th>str11</th><th>str11</th><th>float64</th></tr></thead>\n",
       "<tr><td>image</td><td>TESS</td><td>Photometer</td><td>TESS</td><td>TESS</td><td>Optical</td><td>TESS FFI</td><td>--</td><td>tess-s0002-3-2</td><td>11.941583568308259</td><td>-60.01484789519171</td><td>N/A</td><td>Ricker, George</td><td>3</td><td>58353.60693574</td><td>58381.00244957</td><td>1425.599483</td><td>600.0</td><td>1000.0</td><td>--</td><td>58458.58334</td><td>--</td><td>2</td><td>POLYGON 32.477102 -62.227635 16.359598 -54.028976 16.35952533577985 -54.029012055442443 16.359349 -54.028886 16.358902021471508 -54.029107783373995 16.358333 -54.028701 16.358143006249527 -54.028795267922291 16.357944 -54.028653 16.357701334165547 -54.028773400696423 16.35767 -54.028751 16.357649226764067 -54.028761306802693 16.357646 -54.028759 16.3576457610504 -54.028759118555833 16.35764 -54.028755 16.357637754696544 -54.028756114015245 16.357632 -54.028752 16.35762904490803 -54.028753466179175 16.35762 -54.028747 16.357618699899792 -54.028747645049521 16.357615 -54.028745 16.357613225525821 -54.02874588041103 16.357605 -54.02874 16.35760440968772 -54.028740292885225 16.357604 -54.02874 16.357599382815568 -54.028742290829605 16.357571 -54.028722 16.357567222708628 -54.0287238741137 16.357566 -54.028723 16.357562454574193 -54.028724759072112 16.357553 -54.028718 -1.9922784435604575 -60.402554942454479 -2.6506919999999354 -60.549816 -2.6506919872104859 -60.549816015453217 -2.6507010000000264 -60.549818 -2.6506979621577065 -60.549821670514596 -2.6507040000000188 -60.549823 -2.6507025870942451 -60.549824707163019 -2.6507129999999961 -60.549827 -2.6507028909149537 -60.549839214445221 -2.6507110000000011 -60.549841 -2.6507088998290254 -60.549843537559696 -2.6507110000000011 -60.549844 -2.6507042242541714 -60.549852186888906 -2.650716999999986 -60.549855 10.956694 -70.958009 10.956723981140163 -70.958002070219266 10.957094 -70.958177 10.957268418406466 -70.958136684732608 10.957451 -70.958223 10.958091585428384 -70.958074931029088 10.958115 -70.958086 10.958680721213121 -70.957955231779223 10.958786 -70.958005 10.959261193991086 -70.957895154487673 10.959868 -70.958182 10.960255241896879 -70.958092481933249 10.960415 -70.958168 32.476887 -62.227872 32.476795609917588 -62.227840092698457 32.477102 -62.227635 32.477102 -62.227635</td><td>--</td><td>--</td><td>PUBLIC</td><td>False</td><td>--</td><td>17000072397</td><td>17000600954</td><td>0.0</td></tr>\n",
       "<tr><td>image</td><td>GALEX</td><td>GALEX</td><td>AIS</td><td>NUV</td><td>UV</td><td>AIS_392_1_25</td><td>--</td><td>6384708056189501440</td><td>14.9121797546718</td><td>-56.9874708963636</td><td>--</td><td>--</td><td>2</td><td>55892.521053240744</td><td>55892.59054398148</td><td>179.0</td><td>169300000000.0</td><td>300700000000.0</td><td>--</td><td>56189.28269</td><td>AIS</td><td>--</td><td>CIRCLE ICRS  14.91217975 -56.98747090 0.625</td><td>http://galex.stsci.edu/data/GR6/pipe/02-vsn/50392-AIS_392/d/01-main/0001-img/07-try/qa/AIS_392_sg25-xd-int_2color.jpg</td><td>http://galex.stsci.edu/data/GR6/pipe/02-vsn/50392-AIS_392/d/01-main/0001-img/07-try/AIS_392_sg25-nd-int.fits.gz</td><td>PUBLIC</td><td>--</td><td>5885.0</td><td>1000037698</td><td>1000037666</td><td>0.0</td></tr>\n",
       "<tr><td>image</td><td>GALEX</td><td>GALEX</td><td>AIS</td><td>FUV</td><td>UV</td><td>AIS_392_1_36</td><td>--</td><td>6384708068000661504</td><td>16.2709085610128</td><td>-57.7125304705332</td><td>--</td><td>--</td><td>2</td><td>54330.37613425926</td><td>54332.36292824074</td><td>218.0</td><td>134000000000.0</td><td>180600000000.0</td><td>--</td><td>55435.11046</td><td>AIS</td><td>--</td><td>CIRCLE ICRS  16.27090856 -57.71253047 0.625</td><td>http://galex.stsci.edu/data/GR6/pipe/02-vsn/50392-AIS_392/d/01-main/0001-img/07-try/qa/AIS_392_sg36-xd-int_2color.jpg</td><td>http://galex.stsci.edu/data/GR6/pipe/02-vsn/50392-AIS_392/d/01-main/0001-img/07-try/AIS_392_sg36-fd-exp.fits.gz</td><td>PUBLIC</td><td>--</td><td>5885.0</td><td>1000037709</td><td>1000074148</td><td>0.0</td></tr>\n",
       "<tr><td>image</td><td>GALEX</td><td>GALEX</td><td>AIS</td><td>NUV</td><td>UV</td><td>AIS_392_1_36</td><td>--</td><td>6384708068000661504</td><td>16.2709085610128</td><td>-57.7125304705332</td><td>--</td><td>--</td><td>2</td><td>54330.37613425926</td><td>54332.36292824074</td><td>218.0</td><td>169300000000.0</td><td>300700000000.0</td><td>--</td><td>55435.11046</td><td>AIS</td><td>--</td><td>CIRCLE ICRS  16.27090856 -57.71253047 0.625</td><td>http://galex.stsci.edu/data/GR6/pipe/02-vsn/50392-AIS_392/d/01-main/0001-img/07-try/qa/AIS_392_sg36-xd-int_2color.jpg</td><td>http://galex.stsci.edu/data/GR6/pipe/02-vsn/50392-AIS_392/d/01-main/0001-img/07-try/AIS_392_sg36-xd-mcat.fits.gz</td><td>PUBLIC</td><td>--</td><td>5885.0</td><td>1000037709</td><td>1000037677</td><td>0.0</td></tr>\n",
       "</table>"
      ],
      "text/plain": [
       "<Table masked=True length=4>\n",
       "dataproduct_type obs_collection instrument_name ...    objID    distance\n",
       "      str5            str5           str10      ...    str11    float64 \n",
       "---------------- -------------- --------------- ... ----------- --------\n",
       "           image           TESS      Photometer ... 17000600954      0.0\n",
       "           image          GALEX           GALEX ...  1000037666      0.0\n",
       "           image          GALEX           GALEX ...  1000074148      0.0\n",
       "           image          GALEX           GALEX ...  1000037677      0.0"
      ]
     },
     "execution_count": 22,
     "metadata": {},
     "output_type": "execute_result"
    }
   ],
   "source": [
    "obsTable"
   ]
  },
  {
   "cell_type": "code",
   "execution_count": null,
   "metadata": {},
   "outputs": [],
   "source": []
  }
 ],
 "metadata": {
  "kernelspec": {
   "display_name": "Python 3",
   "language": "python",
   "name": "python3"
  },
  "language_info": {
   "codemirror_mode": {
    "name": "ipython",
    "version": 3
   },
   "file_extension": ".py",
   "mimetype": "text/x-python",
   "name": "python",
   "nbconvert_exporter": "python",
   "pygments_lexer": "ipython3",
   "version": "3.6.5"
  }
 },
 "nbformat": 4,
 "nbformat_minor": 2
}
